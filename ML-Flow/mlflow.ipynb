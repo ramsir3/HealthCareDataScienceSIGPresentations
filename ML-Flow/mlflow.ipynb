{
 "cells": [
  {
   "cell_type": "markdown",
   "metadata": {
    "slideshow": {
     "slide_type": "slide"
    }
   },
   "source": [
    "# Reproducibility and ML-Flow"
   ]
  },
  {
   "cell_type": "markdown",
   "metadata": {
    "slideshow": {
     "slide_type": "slide"
    }
   },
   "source": [
    "# What is Reproducibility?\n",
    "`McDermott M, Wang S, Marinsek N, Ranganath R, Ghassemi M, Foschini L. Reproducibility in Machine Learning for Health. arXiv preprint arXiv:1907.01463. 2019 Jul 2.`\n",
    "\n",
    "- Technical replicability\n",
    "- Statistical replicability\n",
    "- Conceptual replicability"
   ]
  },
  {
   "cell_type": "markdown",
   "metadata": {
    "slideshow": {
     "slide_type": "notes"
    }
   },
   "source": [
    "Technical replicability refers to the ability to yield the precise results reported in the paper eg. code and dataset version. \n",
    "\n",
    "Statistical replicability refers to the ability of a result to hold under re-sampled conditions. New data that belongs to the same distribution.\n",
    "\n",
    "Conceptual replicability is replicability under conditions that mach the conceptual description of the purported effect. \n",
    "\n",
    "\"All three of these replicability criteria are central for full reproducibility: without technical replicability, one’s result cannot be demonstrated. Without statistical replicability, one’s result will not reproduce under increased sampling and the presence of real-world variance. And lastly, without conceptual replicability, one’s result does not depend on the desired properties of the data, but instead depends on potentially unobserved aspects of the data generation mechanism that, critically, will not reproduce when deployed in practice\""
   ]
  },
  {
   "cell_type": "markdown",
   "metadata": {
    "slideshow": {
     "slide_type": "slide"
    }
   },
   "source": [
    "# Challenges in Healthcare"
   ]
  },
  {
   "cell_type": "markdown",
   "metadata": {
    "slideshow": {
     "slide_type": "fragment"
    }
   },
   "source": [
    "- Privacy concerns\n",
    "- Lack of transparency in methods and code sharing\n",
    "- Lack of multi-institution datasets\n",
    "- Lack of standards in reporting on models"
   ]
  },
  {
   "cell_type": "markdown",
   "metadata": {
    "slideshow": {
     "slide_type": "notes"
    }
   },
   "source": [
    "- Only 51% of the ML4H papers examined used public datasets, as compared to over 90% of both CV and NLP papers, and approximately 77% of general ML papers.\n",
    "- Only approximately 13% of the ML4H papers analyzed released their code publicly, compared to approximately 37% in CV and 50% in NLP.\n",
    "- Generalizing over changing care practices or data formats is challenging\n",
    "- Performance degrades over time as care patterns evolve"
   ]
  },
  {
   "cell_type": "markdown",
   "metadata": {
    "slideshow": {
     "slide_type": "slide"
    }
   },
   "source": [
    "![Figure 1](img/fig1.png)\n",
    "`McDermott M et al`"
   ]
  },
  {
   "cell_type": "markdown",
   "metadata": {
    "slideshow": {
     "slide_type": "slide"
    }
   },
   "source": [
    "# What is ML-Flow?\n",
    "\n",
    "#### \"MLflow is an open source platform to manage the ML lifecycle, including experimentation, reproducibility and deployment.\"\n",
    "\n",
    "https://mlflow.org"
   ]
  },
  {
   "cell_type": "markdown",
   "metadata": {
    "slideshow": {
     "slide_type": "slide"
    }
   },
   "source": [
    "# Integrations\n",
    "![Figure 2](img/fig2.png)"
   ]
  },
  {
   "cell_type": "markdown",
   "metadata": {
    "slideshow": {
     "slide_type": "slide"
    }
   },
   "source": [
    "# Example\n",
    "https://mlflow.org/docs/latest/tutorial.html"
   ]
  },
  {
   "cell_type": "code",
   "execution_count": 1,
   "metadata": {
    "slideshow": {
     "slide_type": "skip"
    }
   },
   "outputs": [],
   "source": [
    "import os\n",
    "import warnings\n",
    "import sys\n",
    "\n",
    "import pandas as pd\n",
    "import numpy as np\n",
    "from sklearn.metrics import mean_squared_error, mean_absolute_error, r2_score\n",
    "from sklearn.model_selection import train_test_split\n",
    "from sklearn.linear_model import ElasticNet\n",
    "\n",
    "import mlflow\n",
    "import mlflow.sklearn"
   ]
  },
  {
   "cell_type": "code",
   "execution_count": 2,
   "metadata": {
    "slideshow": {
     "slide_type": "skip"
    }
   },
   "outputs": [],
   "source": [
    "warnings.filterwarnings(\"ignore\")\n",
    "np.random.seed(40)"
   ]
  },
  {
   "cell_type": "code",
   "execution_count": 3,
   "metadata": {
    "slideshow": {
     "slide_type": "skip"
    }
   },
   "outputs": [],
   "source": [
    "def eval_metrics(actual, pred):\n",
    "    rmse = np.sqrt(mean_squared_error(actual, pred))\n",
    "    mae = mean_absolute_error(actual, pred)\n",
    "    r2 = r2_score(actual, pred)\n",
    "    return rmse, mae, r2"
   ]
  },
  {
   "cell_type": "markdown",
   "metadata": {
    "slideshow": {
     "slide_type": "slide"
    }
   },
   "source": [
    "# Load and split data"
   ]
  },
  {
   "cell_type": "code",
   "execution_count": 4,
   "metadata": {},
   "outputs": [],
   "source": [
    "wine_path = \"example/wine-quality.csv\"\n",
    "data = pd.read_csv(wine_path)\n",
    "\n",
    "# Split the data into training and test sets. (0.75, 0.25) split.\n",
    "train, test = train_test_split(data)\n",
    "\n",
    "# The predicted column is \"quality\" which is a scalar from [3, 9]\n",
    "train_x = train.drop([\"quality\"], axis=1)\n",
    "test_x = test.drop([\"quality\"], axis=1)\n",
    "train_y = train[[\"quality\"]]\n",
    "test_y = test[[\"quality\"]]\n"
   ]
  },
  {
   "cell_type": "code",
   "execution_count": 5,
   "metadata": {},
   "outputs": [
    {
     "data": {
      "text/html": [
       "<div>\n",
       "<style scoped>\n",
       "    .dataframe tbody tr th:only-of-type {\n",
       "        vertical-align: middle;\n",
       "    }\n",
       "\n",
       "    .dataframe tbody tr th {\n",
       "        vertical-align: top;\n",
       "    }\n",
       "\n",
       "    .dataframe thead th {\n",
       "        text-align: right;\n",
       "    }\n",
       "</style>\n",
       "<table border=\"1\" class=\"dataframe\">\n",
       "  <thead>\n",
       "    <tr style=\"text-align: right;\">\n",
       "      <th></th>\n",
       "      <th>fixed acidity</th>\n",
       "      <th>volatile acidity</th>\n",
       "      <th>citric acid</th>\n",
       "      <th>residual sugar</th>\n",
       "      <th>chlorides</th>\n",
       "      <th>free sulfur dioxide</th>\n",
       "      <th>total sulfur dioxide</th>\n",
       "      <th>density</th>\n",
       "      <th>pH</th>\n",
       "      <th>sulphates</th>\n",
       "      <th>alcohol</th>\n",
       "      <th>quality</th>\n",
       "    </tr>\n",
       "  </thead>\n",
       "  <tbody>\n",
       "    <tr>\n",
       "      <th>0</th>\n",
       "      <td>7.0</td>\n",
       "      <td>0.27</td>\n",
       "      <td>0.36</td>\n",
       "      <td>20.7</td>\n",
       "      <td>0.045</td>\n",
       "      <td>45.0</td>\n",
       "      <td>170.0</td>\n",
       "      <td>1.0010</td>\n",
       "      <td>3.00</td>\n",
       "      <td>0.45</td>\n",
       "      <td>8.8</td>\n",
       "      <td>6</td>\n",
       "    </tr>\n",
       "    <tr>\n",
       "      <th>1</th>\n",
       "      <td>6.3</td>\n",
       "      <td>0.30</td>\n",
       "      <td>0.34</td>\n",
       "      <td>1.6</td>\n",
       "      <td>0.049</td>\n",
       "      <td>14.0</td>\n",
       "      <td>132.0</td>\n",
       "      <td>0.9940</td>\n",
       "      <td>3.30</td>\n",
       "      <td>0.49</td>\n",
       "      <td>9.5</td>\n",
       "      <td>6</td>\n",
       "    </tr>\n",
       "    <tr>\n",
       "      <th>2</th>\n",
       "      <td>8.1</td>\n",
       "      <td>0.28</td>\n",
       "      <td>0.40</td>\n",
       "      <td>6.9</td>\n",
       "      <td>0.050</td>\n",
       "      <td>30.0</td>\n",
       "      <td>97.0</td>\n",
       "      <td>0.9951</td>\n",
       "      <td>3.26</td>\n",
       "      <td>0.44</td>\n",
       "      <td>10.1</td>\n",
       "      <td>6</td>\n",
       "    </tr>\n",
       "    <tr>\n",
       "      <th>3</th>\n",
       "      <td>7.2</td>\n",
       "      <td>0.23</td>\n",
       "      <td>0.32</td>\n",
       "      <td>8.5</td>\n",
       "      <td>0.058</td>\n",
       "      <td>47.0</td>\n",
       "      <td>186.0</td>\n",
       "      <td>0.9956</td>\n",
       "      <td>3.19</td>\n",
       "      <td>0.40</td>\n",
       "      <td>9.9</td>\n",
       "      <td>6</td>\n",
       "    </tr>\n",
       "    <tr>\n",
       "      <th>4</th>\n",
       "      <td>7.2</td>\n",
       "      <td>0.23</td>\n",
       "      <td>0.32</td>\n",
       "      <td>8.5</td>\n",
       "      <td>0.058</td>\n",
       "      <td>47.0</td>\n",
       "      <td>186.0</td>\n",
       "      <td>0.9956</td>\n",
       "      <td>3.19</td>\n",
       "      <td>0.40</td>\n",
       "      <td>9.9</td>\n",
       "      <td>6</td>\n",
       "    </tr>\n",
       "  </tbody>\n",
       "</table>\n",
       "</div>"
      ],
      "text/plain": [
       "   fixed acidity  volatile acidity  citric acid  residual sugar  chlorides  \\\n",
       "0            7.0              0.27         0.36            20.7      0.045   \n",
       "1            6.3              0.30         0.34             1.6      0.049   \n",
       "2            8.1              0.28         0.40             6.9      0.050   \n",
       "3            7.2              0.23         0.32             8.5      0.058   \n",
       "4            7.2              0.23         0.32             8.5      0.058   \n",
       "\n",
       "   free sulfur dioxide  total sulfur dioxide  density    pH  sulphates  \\\n",
       "0                 45.0                 170.0   1.0010  3.00       0.45   \n",
       "1                 14.0                 132.0   0.9940  3.30       0.49   \n",
       "2                 30.0                  97.0   0.9951  3.26       0.44   \n",
       "3                 47.0                 186.0   0.9956  3.19       0.40   \n",
       "4                 47.0                 186.0   0.9956  3.19       0.40   \n",
       "\n",
       "   alcohol  quality  \n",
       "0      8.8        6  \n",
       "1      9.5        6  \n",
       "2     10.1        6  \n",
       "3      9.9        6  \n",
       "4      9.9        6  "
      ]
     },
     "execution_count": 5,
     "metadata": {},
     "output_type": "execute_result"
    }
   ],
   "source": [
    "data.head()"
   ]
  },
  {
   "cell_type": "code",
   "execution_count": 6,
   "metadata": {
    "slideshow": {
     "slide_type": "skip"
    }
   },
   "outputs": [],
   "source": [
    "if not (len(sys.argv) > 2 and sys.argv[2][0] == '/'):\n",
    "    argv = sys.argv\n",
    "else:\n",
    "    argv = []\n",
    "alpha = float(argv[1]) if len(argv) > 1 else 0.5\n",
    "l1_ratio = float(argv[2]) if len(argv) > 2 else 0.5"
   ]
  },
  {
   "cell_type": "markdown",
   "metadata": {
    "slideshow": {
     "slide_type": "slide"
    }
   },
   "source": [
    "# Train and log data"
   ]
  },
  {
   "cell_type": "code",
   "execution_count": 7,
   "metadata": {},
   "outputs": [],
   "source": [
    "def run_once(alpha, l1_ratio):\n",
    "    with mlflow.start_run():\n",
    "        lr = ElasticNet(alpha=alpha, l1_ratio=l1_ratio, random_state=42)\n",
    "        lr.fit(train_x, train_y)\n",
    "\n",
    "        predicted_qualities = lr.predict(test_x)\n",
    "\n",
    "        (rmse, mae, r2) = eval_metrics(test_y, predicted_qualities)\n",
    "\n",
    "        print(\"Elasticnet model (alpha=%f, l1_ratio=%f):\" % (alpha, l1_ratio))\n",
    "        print(\"  RMSE: %s\" % rmse)\n",
    "        print(\"  MAE: %s\" % mae)\n",
    "        print(\"  R2: %s\" % r2)\n",
    "\n",
    "        mlflow.log_param(\"alpha\", alpha)\n",
    "        mlflow.log_param(\"l1_ratio\", l1_ratio)\n",
    "        mlflow.log_metric(\"rmse\", rmse)\n",
    "        mlflow.log_metric(\"r2\", r2)\n",
    "        mlflow.log_metric(\"mae\", mae)\n",
    "\n",
    "        mlflow.sklearn.log_model(lr, \"model\")"
   ]
  },
  {
   "cell_type": "code",
   "execution_count": 8,
   "metadata": {
    "scrolled": true,
    "slideshow": {
     "slide_type": "subslide"
    }
   },
   "outputs": [
    {
     "name": "stdout",
     "output_type": "stream",
     "text": [
      "Elasticnet model (alpha=0.000000, l1_ratio=0.000000):\n",
      "  RMSE: 0.7424162938559538\n",
      "  MAE: 0.5775168907128364\n",
      "  R2: 0.2881067715835015\n",
      "Elasticnet model (alpha=0.000000, l1_ratio=0.250000):\n",
      "  RMSE: 0.7424162938559538\n",
      "  MAE: 0.5775168907128364\n",
      "  R2: 0.2881067715835015\n",
      "Elasticnet model (alpha=0.000000, l1_ratio=0.500000):\n",
      "  RMSE: 0.7424162938559538\n",
      "  MAE: 0.5775168907128364\n",
      "  R2: 0.2881067715835015\n",
      "Elasticnet model (alpha=0.000000, l1_ratio=0.750000):\n",
      "  RMSE: 0.7424162938559538\n",
      "  MAE: 0.5775168907128364\n",
      "  R2: 0.2881067715835015\n",
      "Elasticnet model (alpha=0.250000, l1_ratio=0.000000):\n",
      "  RMSE: 0.7809291909864666\n",
      "  MAE: 0.611562670306637\n",
      "  R2: 0.2123320286653423\n",
      "Elasticnet model (alpha=0.250000, l1_ratio=0.250000):\n",
      "  RMSE: 0.7894718330025422\n",
      "  MAE: 0.6172327290956597\n",
      "  R2: 0.19500505762673592\n",
      "Elasticnet model (alpha=0.250000, l1_ratio=0.500000):\n",
      "  RMSE: 0.7975067375423913\n",
      "  MAE: 0.6207309553456548\n",
      "  R2: 0.17853588976514378\n",
      "Elasticnet model (alpha=0.250000, l1_ratio=0.750000):\n",
      "  RMSE: 0.8050535950043128\n",
      "  MAE: 0.6225492374514399\n",
      "  R2: 0.16291519275984234\n",
      "Elasticnet model (alpha=0.500000, l1_ratio=0.000000):\n",
      "  RMSE: 0.7873800676017406\n",
      "  MAE: 0.6147881299552064\n",
      "  R2: 0.19926519646878105\n",
      "Elasticnet model (alpha=0.500000, l1_ratio=0.250000):\n",
      "  RMSE: 0.8035425625919737\n",
      "  MAE: 0.622084352832688\n",
      "  R2: 0.16605454957283905\n",
      "Elasticnet model (alpha=0.500000, l1_ratio=0.500000):\n",
      "  RMSE: 0.82224284975954\n",
      "  MAE: 0.6278761410160691\n",
      "  R2: 0.12678721972772689\n",
      "Elasticnet model (alpha=0.500000, l1_ratio=0.750000):\n",
      "  RMSE: 0.8538825879448013\n",
      "  MAE: 0.6447015919024442\n",
      "  R2: 0.05829215654589359\n",
      "Elasticnet model (alpha=0.750000, l1_ratio=0.000000):\n",
      "  RMSE: 0.7933854670962956\n",
      "  MAE: 0.6172044998458269\n",
      "  R2: 0.18700410213353835\n",
      "Elasticnet model (alpha=0.750000, l1_ratio=0.250000):\n",
      "  RMSE: 0.816832623674366\n",
      "  MAE: 0.6260170203987362\n",
      "  R2: 0.13824061470822602\n",
      "Elasticnet model (alpha=0.750000, l1_ratio=0.500000):\n",
      "  RMSE: 0.854697359145088\n",
      "  MAE: 0.645279028213442\n",
      "  R2: 0.05649415174581651\n",
      "Elasticnet model (alpha=0.750000, l1_ratio=0.750000):\n",
      "  RMSE: 0.8595493706991655\n",
      "  MAE: 0.6480029862019094\n",
      "  R2: 0.045751412649746914\n"
     ]
    }
   ],
   "source": [
    "from itertools import product\n",
    "alpha_l1 = product(np.arange(0,1,0.25), np.arange(0,1,0.25))\n",
    "\n",
    "for params in alpha_l1:\n",
    "    run_once(*params)"
   ]
  },
  {
   "cell_type": "markdown",
   "metadata": {
    "slideshow": {
     "slide_type": "slide"
    }
   },
   "source": [
    "# Viewing your results"
   ]
  },
  {
   "cell_type": "code",
   "execution_count": null,
   "metadata": {
    "scrolled": true
   },
   "outputs": [
    {
     "name": "stdout",
     "output_type": "stream",
     "text": [
      "[2019-09-04 19:22:19 -0600] [14029] [INFO] Starting gunicorn 19.9.0\n",
      "[2019-09-04 19:22:19 -0600] [14029] [INFO] Listening at: http://127.0.0.1:5000 (14029)\n",
      "[2019-09-04 19:22:19 -0600] [14029] [INFO] Using worker: sync\n",
      "[2019-09-04 19:22:19 -0600] [14032] [INFO] Booting worker with pid: 14032\n",
      "[2019-09-05 10:05:40 -0600] [14029] [CRITICAL] WORKER TIMEOUT (pid:14032)\n",
      "[2019-09-05 10:05:40 -0600] [14032] [INFO] Worker exiting (pid: 14032)\n",
      "[2019-09-05 10:05:40 -0600] [14700] [INFO] Booting worker with pid: 14700\n"
     ]
    }
   ],
   "source": [
    "!mlflow ui"
   ]
  },
  {
   "cell_type": "markdown",
   "metadata": {
    "slideshow": {
     "slide_type": "slide"
    }
   },
   "source": [
    "# Packaging Your Model\n",
    "\n",
    "Define two files in the root directory of your project\n",
    "\n",
    "- conda.yaml\n",
    "- MLproject\n"
   ]
  },
  {
   "cell_type": "markdown",
   "metadata": {
    "slideshow": {
     "slide_type": "subslide"
    }
   },
   "source": [
    "### MLproject\n",
    "```yaml\n",
    "name: tutorial\n",
    "\n",
    "conda_env: conda.yaml\n",
    "\n",
    "entry_points:\n",
    "  main:\n",
    "    parameters:\n",
    "      alpha: float\n",
    "      l1_ratio: {type: float, default: 0.1}\n",
    "    command: \"python train.py {alpha} {l1_ratio}\"\n",
    "    \n",
    "```"
   ]
  },
  {
   "cell_type": "markdown",
   "metadata": {
    "slideshow": {
     "slide_type": "subslide"
    }
   },
   "source": [
    "### conda.yaml\n",
    "```yaml\n",
    "name: tutorial\n",
    "channels:\n",
    "  - defaults\n",
    "dependencies:\n",
    "  - python=3.6\n",
    "  - scikit-learn=0.19.1\n",
    "  - pip:\n",
    "    - mlflow>=1.0\n",
    "\n",
    "```"
   ]
  },
  {
   "cell_type": "code",
   "execution_count": 12,
   "metadata": {
    "scrolled": true,
    "slideshow": {
     "slide_type": "subslide"
    }
   },
   "outputs": [
    {
     "name": "stdout",
     "output_type": "stream",
     "text": [
      "2019/08/29 17:44:52 INFO mlflow.projects: === Creating conda environment mlflow-266307e4c5272b86e4ea7b8d86fed73b47d05dd6 ===\n",
      "Collecting package metadata: done\n",
      "Solving environment: done\n",
      "\n",
      "\n",
      "==> WARNING: A newer version of conda exists. <==\n",
      "  current version: 4.6.4\n",
      "  latest version: 4.7.11\n",
      "\n",
      "Please update conda by running\n",
      "\n",
      "    $ conda update -n base -c defaults conda\n",
      "\n",
      "\n",
      "\n",
      "Downloading and Extracting Packages\n",
      "_libgcc_mutex-0.1    | 3 KB      | ##################################### | 100% \n",
      "intel-openmp-2019.4  | 876 KB    | ##################################### | 100% \n",
      "python-3.6.9         | 34.4 MB   | ##################################### | 100% \n",
      "ca-certificates-2019 | 134 KB    | ##################################### | 100% \n",
      "libgcc-ng-9.1.0      | 8.1 MB    | ##################################### | 100% \n",
      "numpy-1.15.4         | 35 KB     | ##################################### | 100% \n",
      "numpy-base-1.15.4    | 4.2 MB    | ##################################### | 100% \n",
      "mkl-2018.0.3         | 198.7 MB  | ##################################### | 100% \n",
      "setuptools-41.0.1    | 656 KB    | ##################################### | 100% \n",
      "certifi-2019.6.16    | 156 KB    | ##################################### | 100% \n",
      "sqlite-3.29.0        | 1.9 MB    | ##################################### | 100% \n",
      "scipy-1.1.0          | 18.0 MB   | ##################################### | 100% \n",
      "scikit-learn-0.19.1  | 5.2 MB    | ##################################### | 100% \n",
      "mkl_random-1.0.1     | 373 KB    | ##################################### | 100% \n",
      "openssl-1.1.1c       | 3.8 MB    | ##################################### | 100% \n",
      "libstdcxx-ng-9.1.0   | 4.0 MB    | ##################################### | 100% \n",
      "pip-19.2.2           | 1.9 MB    | ##################################### | 100% \n",
      "mkl_fft-1.0.6        | 150 KB    | ##################################### | 100% \n",
      "wheel-0.33.4         | 40 KB     | ##################################### | 100% \n",
      "Preparing transaction: done\n",
      "Verifying transaction: done\n",
      "Executing transaction: done\n",
      "++ /home/ram/anaconda3/bin/conda shell.posix hook\n",
      "+ eval 'export CONDA_EXE=\"/home/ram/anaconda3/bin/conda\"\n",
      "# Copyright (C) 2012 Anaconda, Inc\n",
      "# SPDX-License-Identifier: BSD-3-Clause\n",
      "\n",
      "__conda_hashr() {\n",
      "    if [ -n \"${ZSH_VERSION:+x}\" ]; then\n",
      "        \\rehash\n",
      "    elif [ -n \"${POSH_VERSION:+x}\" ]; then\n",
      "        :  # pass\n",
      "    else\n",
      "        \\hash -r\n",
      "    fi\n",
      "}\n",
      "\n",
      "__conda_activate() {\n",
      "    if [ -n \"${CONDA_PS1_BACKUP:+x}\" ]; then\n",
      "        # Handle transition from shell activated with conda <= 4.3 to a subsequent activation\n",
      "        # after conda updated to >= 4.4. See issue #6173.\n",
      "        PS1=\"$CONDA_PS1_BACKUP\"\n",
      "        \\unset CONDA_PS1_BACKUP\n",
      "    fi\n",
      "\n",
      "    \\local cmd=\"$1\"\n",
      "    shift\n",
      "    \\local ask_conda\n",
      "    ask_conda=\"$(PS1=\"$PS1\" \"$CONDA_EXE\" shell.posix \"$cmd\" \"$@\")\" || \\return $?\n",
      "    \\eval \"$ask_conda\"\n",
      "    __conda_hashr\n",
      "}\n",
      "\n",
      "__conda_reactivate() {\n",
      "    \\local ask_conda\n",
      "    ask_conda=\"$(PS1=\"$PS1\" \"$CONDA_EXE\" shell.posix reactivate)\" || \\return $?\n",
      "    \\eval \"$ask_conda\"\n",
      "    __conda_hashr\n",
      "}\n",
      "\n",
      "conda() {\n",
      "    if [ \"$#\" -lt 1 ]; then\n",
      "        \"$CONDA_EXE\"\n",
      "    else\n",
      "        \\local cmd=\"$1\"\n",
      "        shift\n",
      "        case \"$cmd\" in\n",
      "            activate|deactivate)\n",
      "                __conda_activate \"$cmd\" \"$@\"\n",
      "                ;;\n",
      "            install|update|upgrade|remove|uninstall)\n",
      "                \"$CONDA_EXE\" \"$cmd\" \"$@\" && __conda_reactivate\n",
      "                ;;\n",
      "            *) \"$CONDA_EXE\" \"$cmd\" \"$@\" ;;\n",
      "        esac\n",
      "    fi\n",
      "}\n",
      "\n",
      "if [ -z \"${CONDA_SHLVL+x}\" ]; then\n",
      "    \\export CONDA_SHLVL=0\n",
      "    PATH=\"$(dirname \"$(dirname \"$CONDA_EXE\")\")/condabin:${PATH:-}\"\n",
      "    \\export PATH\n",
      "\n",
      "    # We'\\''re not allowing PS1 to be unbound. It must at least be set.\n",
      "    # However, we'\\''re not exporting it, which can cause problems when starting a second shell\n",
      "    # via a first shell (i.e. starting zsh from bash).\n",
      "    if [ -z \"${PS1+x}\" ]; then\n",
      "        PS1=\n",
      "    fi\n",
      "fi\n",
      "\n",
      "\n",
      "conda activate base'\n",
      "++ export CONDA_EXE=/home/ram/anaconda3/bin/conda\n",
      "++ CONDA_EXE=/home/ram/anaconda3/bin/conda\n",
      "++ '[' -z x ']'\n",
      "++ conda activate base\n",
      "++ '[' 2 -lt 1 ']'\n",
      "++ local cmd=activate\n",
      "++ shift\n",
      "++ case \"$cmd\" in\n",
      "++ __conda_activate activate base\n",
      "++ '[' -n '' ']'\n",
      "++ local cmd=activate\n",
      "++ shift\n",
      "++ local ask_conda\n",
      "+++ PS1=\n",
      "+++ /home/ram/anaconda3/bin/conda shell.posix activate base\n",
      "++ ask_conda='PS1='\\''(base) '\\''\n",
      "\\export CONDA_PROMPT_MODIFIER='\\''(base) '\\''\n",
      "\\export CONDA_SHLVL='\\''1'\\''\n",
      "\\export PATH='\\''/home/ram/anaconda3/bin:/home/ram/anaconda3/bin:/home/ram/anaconda3/condabin:/home/ram/.cargo/bin:/home/ram/.local/bin:/usr/local/sbin:/usr/local/bin:/usr/sbin:/usr/bin:/sbin:/bin:/usr/games:/usr/local/games:/snap/bin'\\'''\n",
      "++ eval 'PS1='\\''(base) '\\''\n",
      "\\export CONDA_PROMPT_MODIFIER='\\''(base) '\\''\n",
      "\\export CONDA_SHLVL='\\''1'\\''\n",
      "\\export PATH='\\''/home/ram/anaconda3/bin:/home/ram/anaconda3/bin:/home/ram/anaconda3/condabin:/home/ram/.cargo/bin:/home/ram/.local/bin:/usr/local/sbin:/usr/local/bin:/usr/sbin:/usr/bin:/sbin:/bin:/usr/games:/usr/local/games:/snap/bin'\\'''\n",
      "+++ PS1='(base) '\n",
      "+++ export 'CONDA_PROMPT_MODIFIER=(base) '\n",
      "+++ CONDA_PROMPT_MODIFIER='(base) '\n",
      "+++ export CONDA_SHLVL=1\n",
      "+++ CONDA_SHLVL=1\n",
      "+++ export PATH=/home/ram/anaconda3/bin:/home/ram/anaconda3/bin:/home/ram/anaconda3/condabin:/home/ram/.cargo/bin:/home/ram/.local/bin:/usr/local/sbin:/usr/local/bin:/usr/sbin:/usr/bin:/sbin:/bin:/usr/games:/usr/local/games:/snap/bin\n",
      "+++ PATH=/home/ram/anaconda3/bin:/home/ram/anaconda3/bin:/home/ram/anaconda3/condabin:/home/ram/.cargo/bin:/home/ram/.local/bin:/usr/local/sbin:/usr/local/bin:/usr/sbin:/usr/bin:/sbin:/bin:/usr/games:/usr/local/games:/snap/bin\n",
      "++ __conda_hashr\n",
      "++ '[' -n '' ']'\n",
      "++ '[' -n '' ']'\n",
      "++ hash -r\n",
      "+ conda activate /home/ram/anaconda3/envs/mlflow-266307e4c5272b86e4ea7b8d86fed73b47d05dd6\n",
      "+ '[' 2 -lt 1 ']'\n",
      "+ local cmd=activate\n",
      "+ shift\n",
      "+ case \"$cmd\" in\n",
      "+ __conda_activate activate /home/ram/anaconda3/envs/mlflow-266307e4c5272b86e4ea7b8d86fed73b47d05dd6\n",
      "+ '[' -n '' ']'\n",
      "+ local cmd=activate\n",
      "+ shift\n",
      "+ local ask_conda\n",
      "++ PS1='(base) '\n",
      "++ /home/ram/anaconda3/bin/conda shell.posix activate /home/ram/anaconda3/envs/mlflow-266307e4c5272b86e4ea7b8d86fed73b47d05dd6\n",
      "+ ask_conda='PS1='\\''(mlflow-266307e4c5272b86e4ea7b8d86fed73b47d05dd6) '\\''\n",
      "\\export CONDA_DEFAULT_ENV='\\''mlflow-266307e4c5272b86e4ea7b8d86fed73b47d05dd6'\\''\n",
      "\\export CONDA_PREFIX='\\''/home/ram/anaconda3/envs/mlflow-266307e4c5272b86e4ea7b8d86fed73b47d05dd6'\\''\n",
      "\\export CONDA_PREFIX_1='\\''/home/ram/anaconda3'\\''\n",
      "\\export CONDA_PROMPT_MODIFIER='\\''(mlflow-266307e4c5272b86e4ea7b8d86fed73b47d05dd6) '\\''\n",
      "\\export CONDA_SHLVL='\\''2'\\''\n",
      "\\export PATH='\\''/home/ram/anaconda3/envs/mlflow-266307e4c5272b86e4ea7b8d86fed73b47d05dd6/bin:/home/ram/anaconda3/bin:/home/ram/anaconda3/condabin:/home/ram/.cargo/bin:/home/ram/.local/bin:/usr/local/sbin:/usr/local/bin:/usr/sbin:/usr/bin:/sbin:/bin:/usr/games:/usr/local/games:/snap/bin'\\'''\n",
      "+ eval 'PS1='\\''(mlflow-266307e4c5272b86e4ea7b8d86fed73b47d05dd6) '\\''\n",
      "\\export CONDA_DEFAULT_ENV='\\''mlflow-266307e4c5272b86e4ea7b8d86fed73b47d05dd6'\\''\n",
      "\\export CONDA_PREFIX='\\''/home/ram/anaconda3/envs/mlflow-266307e4c5272b86e4ea7b8d86fed73b47d05dd6'\\''\n",
      "\\export CONDA_PREFIX_1='\\''/home/ram/anaconda3'\\''\n",
      "\\export CONDA_PROMPT_MODIFIER='\\''(mlflow-266307e4c5272b86e4ea7b8d86fed73b47d05dd6) '\\''\n",
      "\\export CONDA_SHLVL='\\''2'\\''\n",
      "\\export PATH='\\''/home/ram/anaconda3/envs/mlflow-266307e4c5272b86e4ea7b8d86fed73b47d05dd6/bin:/home/ram/anaconda3/bin:/home/ram/anaconda3/condabin:/home/ram/.cargo/bin:/home/ram/.local/bin:/usr/local/sbin:/usr/local/bin:/usr/sbin:/usr/bin:/sbin:/bin:/usr/games:/usr/local/games:/snap/bin'\\'''\n",
      "++ PS1='(mlflow-266307e4c5272b86e4ea7b8d86fed73b47d05dd6) '\n",
      "++ export CONDA_DEFAULT_ENV=mlflow-266307e4c5272b86e4ea7b8d86fed73b47d05dd6\n",
      "++ CONDA_DEFAULT_ENV=mlflow-266307e4c5272b86e4ea7b8d86fed73b47d05dd6\n",
      "++ export CONDA_PREFIX=/home/ram/anaconda3/envs/mlflow-266307e4c5272b86e4ea7b8d86fed73b47d05dd6\n",
      "++ CONDA_PREFIX=/home/ram/anaconda3/envs/mlflow-266307e4c5272b86e4ea7b8d86fed73b47d05dd6\n",
      "++ export CONDA_PREFIX_1=/home/ram/anaconda3\n",
      "++ CONDA_PREFIX_1=/home/ram/anaconda3\n",
      "++ export 'CONDA_PROMPT_MODIFIER=(mlflow-266307e4c5272b86e4ea7b8d86fed73b47d05dd6) '\n",
      "++ CONDA_PROMPT_MODIFIER='(mlflow-266307e4c5272b86e4ea7b8d86fed73b47d05dd6) '\n",
      "++ export CONDA_SHLVL=2\n",
      "++ CONDA_SHLVL=2\n",
      "++ export PATH=/home/ram/anaconda3/envs/mlflow-266307e4c5272b86e4ea7b8d86fed73b47d05dd6/bin:/home/ram/anaconda3/bin:/home/ram/anaconda3/condabin:/home/ram/.cargo/bin:/home/ram/.local/bin:/usr/local/sbin:/usr/local/bin:/usr/sbin:/usr/bin:/sbin:/bin:/usr/games:/usr/local/games:/snap/bin\n",
      "++ PATH=/home/ram/anaconda3/envs/mlflow-266307e4c5272b86e4ea7b8d86fed73b47d05dd6/bin:/home/ram/anaconda3/bin:/home/ram/anaconda3/condabin:/home/ram/.cargo/bin:/home/ram/.local/bin:/usr/local/sbin:/usr/local/bin:/usr/sbin:/usr/bin:/sbin:/bin:/usr/games:/usr/local/games:/snap/bin\n",
      "+ __conda_hashr\n",
      "+ '[' -n '' ']'\n",
      "+ '[' -n '' ']'\n",
      "+ hash -r\n",
      "+ /home/ram/anaconda3/envs/mlflow-266307e4c5272b86e4ea7b8d86fed73b47d05dd6/bin/python /home/ram/anaconda3/envs/mlflow-266307e4c5272b86e4ea7b8d86fed73b47d05dd6/bin/pip --disable-pip-version-check install -r /home/ram/Class/BMI6015_ML/SIG/mlflowpresentation/example/condaenv.7xfzqil6.requirements.txt\n"
     ]
    },
    {
     "name": "stdout",
     "output_type": "stream",
     "text": [
      "Collecting mlflow>=1.0 (from -r /home/ram/Class/BMI6015_ML/SIG/mlflowpresentation/example/condaenv.7xfzqil6.requirements.txt (line 1))\n",
      "Collecting sqlalchemy (from mlflow>=1.0->-r /home/ram/Class/BMI6015_ML/SIG/mlflowpresentation/example/condaenv.7xfzqil6.requirements.txt (line 1))\n",
      "\u001b[?25l  Downloading https://files.pythonhosted.org/packages/fc/49/82d64d705ced344ba458197dadab30cfa745f9650ee22260ac2b275d288c/SQLAlchemy-1.3.8.tar.gz (5.9MB)\n",
      "\u001b[K     |████████████████████████████████| 5.9MB 752kB/s eta 0:00:01\n",
      "\u001b[?25hCollecting pandas (from mlflow>=1.0->-r /home/ram/Class/BMI6015_ML/SIG/mlflowpresentation/example/condaenv.7xfzqil6.requirements.txt (line 1))\n",
      "\u001b[?25l  Downloading https://files.pythonhosted.org/packages/73/9b/52e228545d14f14bb2a1622e225f38463c8726645165e1cb7dde95bfe6d4/pandas-0.25.1-cp36-cp36m-manylinux1_x86_64.whl (10.5MB)\n",
      "\u001b[K     |████████████████████████████████| 10.5MB 2.0MB/s eta 0:00:01\n",
      "\u001b[?25hCollecting databricks-cli>=0.8.7 (from mlflow>=1.0->-r /home/ram/Class/BMI6015_ML/SIG/mlflowpresentation/example/condaenv.7xfzqil6.requirements.txt (line 1))\n",
      "\u001b[?25l  Downloading https://files.pythonhosted.org/packages/51/0b/75dac581d98c493be74df97f3ea515c678da2e4be8cafbaf9cba9f01c309/databricks-cli-0.9.0.tar.gz (45kB)\n",
      "\u001b[K     |████████████████████████████████| 51kB 1.1MB/s eta 0:00:011\n",
      "\u001b[?25hCollecting six>=1.10.0 (from mlflow>=1.0->-r /home/ram/Class/BMI6015_ML/SIG/mlflowpresentation/example/condaenv.7xfzqil6.requirements.txt (line 1))\n",
      "  Using cached https://files.pythonhosted.org/packages/73/fb/00a976f728d0d1fecfe898238ce23f502a721c0ac0ecfedb80e0d88c64e9/six-1.12.0-py2.py3-none-any.whl\n",
      "Collecting gitpython>=2.1.0 (from mlflow>=1.0->-r /home/ram/Class/BMI6015_ML/SIG/mlflowpresentation/example/condaenv.7xfzqil6.requirements.txt (line 1))\n",
      "  Using cached https://files.pythonhosted.org/packages/8e/c7/70bd352e8a561a9b6d1cde9aa313b9d7c871b0c94c3821f44c01f3187e1d/GitPython-3.0.2-py3-none-any.whl\n",
      "Collecting pyyaml (from mlflow>=1.0->-r /home/ram/Class/BMI6015_ML/SIG/mlflowpresentation/example/condaenv.7xfzqil6.requirements.txt (line 1))\n",
      "\u001b[?25l  Downloading https://files.pythonhosted.org/packages/e3/e8/b3212641ee2718d556df0f23f78de8303f068fe29cdaa7a91018849582fe/PyYAML-5.1.2.tar.gz (265kB)\n",
      "\u001b[K     |████████████████████████████████| 266kB 1.0MB/s eta 0:00:01\n",
      "\u001b[?25hCollecting gunicorn; platform_system != \"Windows\" (from mlflow>=1.0->-r /home/ram/Class/BMI6015_ML/SIG/mlflowpresentation/example/condaenv.7xfzqil6.requirements.txt (line 1))\n",
      "  Using cached https://files.pythonhosted.org/packages/8c/da/b8dd8deb741bff556db53902d4706774c8e1e67265f69528c14c003644e6/gunicorn-19.9.0-py2.py3-none-any.whl\n",
      "Collecting querystring-parser (from mlflow>=1.0->-r /home/ram/Class/BMI6015_ML/SIG/mlflowpresentation/example/condaenv.7xfzqil6.requirements.txt (line 1))\n",
      "Collecting sqlparse (from mlflow>=1.0->-r /home/ram/Class/BMI6015_ML/SIG/mlflowpresentation/example/condaenv.7xfzqil6.requirements.txt (line 1))\n",
      "  Using cached https://files.pythonhosted.org/packages/ef/53/900f7d2a54557c6a37886585a91336520e5539e3ae2423ff1102daf4f3a7/sqlparse-0.3.0-py2.py3-none-any.whl\n",
      "Requirement already satisfied: numpy in /home/ram/anaconda3/envs/mlflow-266307e4c5272b86e4ea7b8d86fed73b47d05dd6/lib/python3.6/site-packages (from mlflow>=1.0->-r /home/ram/Class/BMI6015_ML/SIG/mlflowpresentation/example/condaenv.7xfzqil6.requirements.txt (line 1)) (1.15.4)\n",
      "Collecting python-dateutil (from mlflow>=1.0->-r /home/ram/Class/BMI6015_ML/SIG/mlflowpresentation/example/condaenv.7xfzqil6.requirements.txt (line 1))\n",
      "  Using cached https://files.pythonhosted.org/packages/41/17/c62faccbfbd163c7f57f3844689e3a78bae1f403648a6afb1d0866d87fbb/python_dateutil-2.8.0-py2.py3-none-any.whl\n",
      "Collecting Flask (from mlflow>=1.0->-r /home/ram/Class/BMI6015_ML/SIG/mlflowpresentation/example/condaenv.7xfzqil6.requirements.txt (line 1))\n",
      "  Using cached https://files.pythonhosted.org/packages/9b/93/628509b8d5dc749656a9641f4caf13540e2cdec85276964ff8f43bbb1d3b/Flask-1.1.1-py2.py3-none-any.whl\n",
      "Collecting docker>=3.6.0 (from mlflow>=1.0->-r /home/ram/Class/BMI6015_ML/SIG/mlflowpresentation/example/condaenv.7xfzqil6.requirements.txt (line 1))\n",
      "  Using cached https://files.pythonhosted.org/packages/95/47/5560c9cf0c92b50da24216f0e7733250fbed5a497f69e3c70e1be62143fe/docker-4.0.2-py2.py3-none-any.whl\n",
      "Collecting entrypoints (from mlflow>=1.0->-r /home/ram/Class/BMI6015_ML/SIG/mlflowpresentation/example/condaenv.7xfzqil6.requirements.txt (line 1))\n",
      "  Using cached https://files.pythonhosted.org/packages/ac/c6/44694103f8c221443ee6b0041f69e2740d89a25641e62fb4f2ee568f2f9c/entrypoints-0.3-py2.py3-none-any.whl\n",
      "Collecting click>=7.0 (from mlflow>=1.0->-r /home/ram/Class/BMI6015_ML/SIG/mlflowpresentation/example/condaenv.7xfzqil6.requirements.txt (line 1))\n",
      "  Using cached https://files.pythonhosted.org/packages/fa/37/45185cb5abbc30d7257104c434fe0b07e5a195a6847506c074527aa599ec/Click-7.0-py2.py3-none-any.whl\n",
      "Collecting alembic (from mlflow>=1.0->-r /home/ram/Class/BMI6015_ML/SIG/mlflowpresentation/example/condaenv.7xfzqil6.requirements.txt (line 1))\n",
      "Collecting protobuf>=3.6.0 (from mlflow>=1.0->-r /home/ram/Class/BMI6015_ML/SIG/mlflowpresentation/example/condaenv.7xfzqil6.requirements.txt (line 1))\n",
      "  Using cached https://files.pythonhosted.org/packages/eb/f4/a27952733796330cd17c17ea1f974459f5fefbbad119c0f296a6d807fec3/protobuf-3.9.1-cp36-cp36m-manylinux1_x86_64.whl\n",
      "Collecting requests>=2.17.3 (from mlflow>=1.0->-r /home/ram/Class/BMI6015_ML/SIG/mlflowpresentation/example/condaenv.7xfzqil6.requirements.txt (line 1))\n",
      "\u001b[?25l  Downloading https://files.pythonhosted.org/packages/51/bd/23c926cd341ea6b7dd0b2a00aba99ae0f828be89d72b2190f27c11d4b7fb/requests-2.22.0-py2.py3-none-any.whl (57kB)\n",
      "\u001b[K     |████████████████████████████████| 61kB 891kB/s eta 0:00:011\n",
      "\u001b[?25hCollecting cloudpickle (from mlflow>=1.0->-r /home/ram/Class/BMI6015_ML/SIG/mlflowpresentation/example/condaenv.7xfzqil6.requirements.txt (line 1))\n",
      "  Using cached https://files.pythonhosted.org/packages/09/f4/4a080c349c1680a2086196fcf0286a65931708156f39568ed7051e42ff6a/cloudpickle-1.2.1-py2.py3-none-any.whl\n",
      "Collecting simplejson (from mlflow>=1.0->-r /home/ram/Class/BMI6015_ML/SIG/mlflowpresentation/example/condaenv.7xfzqil6.requirements.txt (line 1))\n",
      "Collecting gorilla (from mlflow>=1.0->-r /home/ram/Class/BMI6015_ML/SIG/mlflowpresentation/example/condaenv.7xfzqil6.requirements.txt (line 1))\n",
      "  Using cached https://files.pythonhosted.org/packages/e3/56/5a683944cbfc77e429c6f03c636ca50504a785f60ffae91ddd7f5f7bb520/gorilla-0.3.0-py2.py3-none-any.whl\n",
      "Collecting pytz>=2017.2 (from pandas->mlflow>=1.0->-r /home/ram/Class/BMI6015_ML/SIG/mlflowpresentation/example/condaenv.7xfzqil6.requirements.txt (line 1))\n",
      "\u001b[?25l  Downloading https://files.pythonhosted.org/packages/87/76/46d697698a143e05f77bec5a526bf4e56a0be61d63425b68f4ba553b51f2/pytz-2019.2-py2.py3-none-any.whl (508kB)\n",
      "\u001b[K     |████████████████████████████████| 512kB 755kB/s eta 0:00:01\n",
      "\u001b[?25hCollecting tabulate>=0.7.7 (from databricks-cli>=0.8.7->mlflow>=1.0->-r /home/ram/Class/BMI6015_ML/SIG/mlflowpresentation/example/condaenv.7xfzqil6.requirements.txt (line 1))\n",
      "Collecting configparser>=0.3.5 (from databricks-cli>=0.8.7->mlflow>=1.0->-r /home/ram/Class/BMI6015_ML/SIG/mlflowpresentation/example/condaenv.7xfzqil6.requirements.txt (line 1))\n",
      "  Using cached https://files.pythonhosted.org/packages/ab/1a/ec151e5e703ac80041eaccef923611bbcec2b667c20383655a06962732e9/configparser-3.8.1-py2.py3-none-any.whl\n",
      "Collecting gitdb2>=2.0.0 (from gitpython>=2.1.0->mlflow>=1.0->-r /home/ram/Class/BMI6015_ML/SIG/mlflowpresentation/example/condaenv.7xfzqil6.requirements.txt (line 1))\n",
      "  Using cached https://files.pythonhosted.org/packages/da/30/a407568aa8d8f25db817cf50121a958722f3fc5f87e3a6fba1f40c0633e3/gitdb2-2.0.5-py2.py3-none-any.whl\n",
      "Collecting itsdangerous>=0.24 (from Flask->mlflow>=1.0->-r /home/ram/Class/BMI6015_ML/SIG/mlflowpresentation/example/condaenv.7xfzqil6.requirements.txt (line 1))\n",
      "  Using cached https://files.pythonhosted.org/packages/76/ae/44b03b253d6fade317f32c24d100b3b35c2239807046a4c953c7b89fa49e/itsdangerous-1.1.0-py2.py3-none-any.whl\n",
      "Collecting Jinja2>=2.10.1 (from Flask->mlflow>=1.0->-r /home/ram/Class/BMI6015_ML/SIG/mlflowpresentation/example/condaenv.7xfzqil6.requirements.txt (line 1))\n"
     ]
    },
    {
     "name": "stdout",
     "output_type": "stream",
     "text": [
      "  Using cached https://files.pythonhosted.org/packages/1d/e7/fd8b501e7a6dfe492a433deb7b9d833d39ca74916fa8bc63dd1a4947a671/Jinja2-2.10.1-py2.py3-none-any.whl\n",
      "Collecting Werkzeug>=0.15 (from Flask->mlflow>=1.0->-r /home/ram/Class/BMI6015_ML/SIG/mlflowpresentation/example/condaenv.7xfzqil6.requirements.txt (line 1))\n",
      "\u001b[?25l  Downloading https://files.pythonhosted.org/packages/d1/ab/d3bed6b92042622d24decc7aadc8877badf18aeca1571045840ad4956d3f/Werkzeug-0.15.5-py2.py3-none-any.whl (328kB)\n",
      "\u001b[K     |████████████████████████████████| 337kB 747kB/s eta 0:00:01\n",
      "\u001b[?25hCollecting websocket-client>=0.32.0 (from docker>=3.6.0->mlflow>=1.0->-r /home/ram/Class/BMI6015_ML/SIG/mlflowpresentation/example/condaenv.7xfzqil6.requirements.txt (line 1))\n",
      "  Using cached https://files.pythonhosted.org/packages/29/19/44753eab1fdb50770ac69605527e8859468f3c0fd7dc5a76dd9c4dbd7906/websocket_client-0.56.0-py2.py3-none-any.whl\n",
      "Collecting python-editor>=0.3 (from alembic->mlflow>=1.0->-r /home/ram/Class/BMI6015_ML/SIG/mlflowpresentation/example/condaenv.7xfzqil6.requirements.txt (line 1))\n",
      "  Using cached https://files.pythonhosted.org/packages/c6/d3/201fc3abe391bbae6606e6f1d598c15d367033332bd54352b12f35513717/python_editor-1.0.4-py3-none-any.whl\n",
      "Collecting Mako (from alembic->mlflow>=1.0->-r /home/ram/Class/BMI6015_ML/SIG/mlflowpresentation/example/condaenv.7xfzqil6.requirements.txt (line 1))\n",
      "Requirement already satisfied: setuptools in /home/ram/anaconda3/envs/mlflow-266307e4c5272b86e4ea7b8d86fed73b47d05dd6/lib/python3.6/site-packages (from protobuf>=3.6.0->mlflow>=1.0->-r /home/ram/Class/BMI6015_ML/SIG/mlflowpresentation/example/condaenv.7xfzqil6.requirements.txt (line 1)) (41.0.1)\n",
      "Requirement already satisfied: certifi>=2017.4.17 in /home/ram/anaconda3/envs/mlflow-266307e4c5272b86e4ea7b8d86fed73b47d05dd6/lib/python3.6/site-packages (from requests>=2.17.3->mlflow>=1.0->-r /home/ram/Class/BMI6015_ML/SIG/mlflowpresentation/example/condaenv.7xfzqil6.requirements.txt (line 1)) (2019.6.16)\n",
      "Requirement already satisfied: urllib3!=1.25.0,!=1.25.1,<1.26,>=1.21.1 in /home/ram/.local/lib/python3.6/site-packages (from requests>=2.17.3->mlflow>=1.0->-r /home/ram/Class/BMI6015_ML/SIG/mlflowpresentation/example/condaenv.7xfzqil6.requirements.txt (line 1)) (1.24.1)\n",
      "Collecting idna<2.9,>=2.5 (from requests>=2.17.3->mlflow>=1.0->-r /home/ram/Class/BMI6015_ML/SIG/mlflowpresentation/example/condaenv.7xfzqil6.requirements.txt (line 1))\n",
      "  Using cached https://files.pythonhosted.org/packages/14/2c/cd551d81dbe15200be1cf41cd03869a46fe7226e7450af7a6545bfc474c9/idna-2.8-py2.py3-none-any.whl\n",
      "Collecting chardet<3.1.0,>=3.0.2 (from requests>=2.17.3->mlflow>=1.0->-r /home/ram/Class/BMI6015_ML/SIG/mlflowpresentation/example/condaenv.7xfzqil6.requirements.txt (line 1))\n",
      "  Using cached https://files.pythonhosted.org/packages/bc/a9/01ffebfb562e4274b6487b4bb1ddec7ca55ec7510b22e4c51f14098443b8/chardet-3.0.4-py2.py3-none-any.whl\n",
      "Collecting smmap2>=2.0.0 (from gitdb2>=2.0.0->gitpython>=2.1.0->mlflow>=1.0->-r /home/ram/Class/BMI6015_ML/SIG/mlflowpresentation/example/condaenv.7xfzqil6.requirements.txt (line 1))\n",
      "  Using cached https://files.pythonhosted.org/packages/55/d2/866d45e3a121ee15a1dc013824d58072fd5c7799c9c34d01378eb262ca8f/smmap2-2.0.5-py2.py3-none-any.whl\n",
      "Collecting MarkupSafe>=0.23 (from Jinja2>=2.10.1->Flask->mlflow>=1.0->-r /home/ram/Class/BMI6015_ML/SIG/mlflowpresentation/example/condaenv.7xfzqil6.requirements.txt (line 1))\n",
      "  Using cached https://files.pythonhosted.org/packages/b2/5f/23e0023be6bb885d00ffbefad2942bc51a620328ee910f64abe5a8d18dd1/MarkupSafe-1.1.1-cp36-cp36m-manylinux1_x86_64.whl\n",
      "Building wheels for collected packages: sqlalchemy, databricks-cli, pyyaml\n",
      "  Building wheel for sqlalchemy (setup.py) ... \u001b[?25ldone\n",
      "\u001b[?25h  Created wheel for sqlalchemy: filename=SQLAlchemy-1.3.8-cp36-cp36m-linux_x86_64.whl size=1197740 sha256=7bc133bef4e1df3fdd8ca8c3db6d10fccc84917844ac71216ac448b417d53b6e\n",
      "  Stored in directory: /home/ram/.cache/pip/wheels/97/b6/66/de2064d40c920adc2984ff3b8fd4f11494c8ab9e48ba87e8a2\n",
      "  Building wheel for databricks-cli (setup.py) ... \u001b[?25ldone\n",
      "\u001b[?25h  Created wheel for databricks-cli: filename=databricks_cli-0.9.0-cp36-none-any.whl size=83660 sha256=4d8eb04087def74a59f961e654a4e690bd817d2630c959df8732256f3a3a3966\n",
      "  Stored in directory: /home/ram/.cache/pip/wheels/e8/ce/cd/9d2214455ef53a4d9cdbca640dc27828a6c88cd5ef7d0c04de\n",
      "  Building wheel for pyyaml (setup.py) ... \u001b[?25ldone\n",
      "\u001b[?25h  Created wheel for pyyaml: filename=PyYAML-5.1.2-cp36-cp36m-linux_x86_64.whl size=44105 sha256=86fed0fd938511639162f106b06180a0b609387e7335834463b02c49410ca515\n",
      "  Stored in directory: /home/ram/.cache/pip/wheels/d9/45/dd/65f0b38450c47cf7e5312883deb97d065e030c5cca0a365030\n",
      "Successfully built sqlalchemy databricks-cli pyyaml\n",
      "\u001b[31mERROR: astroid 2.1.0 requires wrapt, which is not installed.\u001b[0m\n",
      "Installing collected packages: sqlalchemy, pytz, six, python-dateutil, pandas, click, idna, chardet, requests, tabulate, configparser, databricks-cli, smmap2, gitdb2, gitpython, pyyaml, gunicorn, querystring-parser, sqlparse, itsdangerous, MarkupSafe, Jinja2, Werkzeug, Flask, websocket-client, docker, entrypoints, python-editor, Mako, alembic, protobuf, cloudpickle, simplejson, gorilla, mlflow\n",
      "Successfully installed Flask-1.1.1 Jinja2-2.10.1 Mako-1.1.0 MarkupSafe-1.1.1 Werkzeug-0.15.5 alembic-1.1.0 chardet-3.0.4 click-7.0 cloudpickle-1.2.1 configparser-3.8.1 databricks-cli-0.9.0 docker-4.0.2 entrypoints-0.3 gitdb2-2.0.5 gitpython-3.0.2 gorilla-0.3.0 gunicorn-19.9.0 idna-2.8 itsdangerous-1.1.0 mlflow-1.2.0 pandas-0.25.1 protobuf-3.9.1 python-dateutil-2.8.0 python-editor-1.0.4 pytz-2019.2 pyyaml-5.1.2 querystring-parser-1.2.4 requests-2.22.0 simplejson-3.16.0 six-1.12.0 smmap2-2.0.5 sqlalchemy-1.3.8 sqlparse-0.3.0 tabulate-0.8.3 websocket-client-0.56.0\n",
      "#\n",
      "# To activate this environment, use\n",
      "#\n",
      "#     $ conda activate mlflow-266307e4c5272b86e4ea7b8d86fed73b47d05dd6\n",
      "#\n",
      "# To deactivate an active environment, use\n",
      "#\n",
      "#     $ conda deactivate\n",
      "\n",
      "2019/08/29 17:46:56 INFO mlflow.projects: === Created directory /tmp/tmpf4202y53 for downloading remote URIs passed to arguments of type 'path' ===\n",
      "2019/08/29 17:46:56 INFO mlflow.projects: === Running command 'source /home/ram/anaconda3/bin/../etc/profile.d/conda.sh && conda activate mlflow-266307e4c5272b86e4ea7b8d86fed73b47d05dd6 1>&2 && python train.py 0.42 0.1' in run with ID '03720fba428d498eae5d6a4b983cdb51' === \n",
      "Elasticnet model (alpha=0.420000, l1_ratio=0.100000):\n",
      "  RMSE: 0.7917149365733894\n",
      "  MAE: 0.6177463381374035\n",
      "  R2: 0.19042414117747386\n",
      "2019/08/29 17:46:58 INFO mlflow.projects: === Run (ID '03720fba428d498eae5d6a4b983cdb51') succeeded ===\n"
     ]
    }
   ],
   "source": [
    "!mlflow run example -P alpha=0.42"
   ]
  },
  {
   "cell_type": "markdown",
   "metadata": {
    "slideshow": {
     "slide_type": "slide"
    }
   },
   "source": [
    "# Questions?"
   ]
  }
 ],
 "metadata": {
  "celltoolbar": "Slideshow",
  "kernelspec": {
   "display_name": "Python 3",
   "language": "python",
   "name": "python3"
  },
  "language_info": {
   "codemirror_mode": {
    "name": "ipython",
    "version": 3
   },
   "file_extension": ".py",
   "mimetype": "text/x-python",
   "name": "python",
   "nbconvert_exporter": "python",
   "pygments_lexer": "ipython3",
   "version": "3.6.8"
  }
 },
 "nbformat": 4,
 "nbformat_minor": 2
}
